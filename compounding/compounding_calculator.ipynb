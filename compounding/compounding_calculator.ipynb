{
 "cells": [
  {
   "cell_type": "code",
   "execution_count": null,
   "id": "972f42e5",
   "metadata": {},
   "outputs": [],
   "source": [
    "# 📈 Compounding Calculator – Estimate Your Investment Growth Over Time"
   ]
  },
  {
   "cell_type": "code",
   "execution_count": null,
   "id": "f4f9e51f",
   "metadata": {},
   "outputs": [],
   "source": [
    "# 👉 Step 1: Edit the numbers below to try your own scenario.\n",
    "# You can change the monthly investment, return rate, and duration."
   ]
  },
  {
   "cell_type": "code",
   "execution_count": null,
   "id": "b0baf8d7",
   "metadata": {},
   "outputs": [],
   "source": [
    "monthly_contribution = 500        # Amount you invest every month ($)\n",
    "years = 40                        # Number of years you invest for\n",
    "annual_rate = 0.098               # Expected annual return (e.g. 0.098 = 9.8%)\n",
    "contribution_increase = 0.10      # Yearly % increase in your monthly contribution (e.g. 0.10 = 10%)"
   ]
  },
  {
   "cell_type": "code",
   "execution_count": null,
   "id": "c4347372",
   "metadata": {},
   "outputs": [],
   "source": [
    "# 👉 Step 2: Click the ▶️ \"Run\" button at the top left of this cell to generate your results."
   ]
  },
  {
   "cell_type": "code",
   "execution_count": null,
   "id": "bbf4b8ad",
   "metadata": {},
   "outputs": [],
   "source": [
    "# 📌 First time using Colab?\n",
    "# - A warning may appear: click \"Run anyway\"\n",
    "# - Wait a few seconds while it connects to the Python backend\n",
    "# - After running, scroll down to see your personalized chart and summary table"
   ]
  },
  {
   "cell_type": "code",
   "execution_count": null,
   "id": "8348f7f2",
   "metadata": {},
   "outputs": [],
   "source": [
    "# 🛠️ You can change the numbers and run it again as many times as you like!\n",
    "################# Implementation – Do not edit below this line #################"
   ]
  },
  {
   "cell_type": "code",
   "execution_count": null,
   "id": "3ea839a7",
   "metadata": {},
   "outputs": [],
   "source": [
    "import matplotlib.pyplot as plt\n",
    "import numpy as np\n",
    "import pandas as pd"
   ]
  },
  {
   "cell_type": "code",
   "execution_count": null,
   "id": "5316c8fc",
   "metadata": {},
   "outputs": [],
   "source": [
    "# Calculations\n",
    "months = years * 12\n",
    "monthly_rate = (1 + annual_rate)**(1/12) - 1\n",
    "balances = []\n",
    "contributions = []\n",
    "balance = 0\n",
    "total_contributed = 0\n",
    "contribution = monthly_contribution"
   ]
  },
  {
   "cell_type": "code",
   "execution_count": null,
   "id": "335fcd65",
   "metadata": {},
   "outputs": [],
   "source": [
    "for month in range(months):\n",
    "    if month > 0 and month % 12 == 0:\n",
    "        contribution *= (1 + contribution_increase)\n",
    "    balance = balance * (1 + monthly_rate) + contribution\n",
    "    total_contributed += contribution\n",
    "    balances.append(balance)\n",
    "    contributions.append(total_contributed)"
   ]
  },
  {
   "cell_type": "code",
   "execution_count": null,
   "id": "a0d586b8",
   "metadata": {},
   "outputs": [],
   "source": [
    "# Yearly Summary Table\n",
    "years_range = np.arange(1, months + 1) / 12\n",
    "df = pd.DataFrame({\n",
    "    'Year': years_range,\n",
    "    'Total Contributions': contributions,\n",
    "    'Portfolio Value': balances\n",
    "})"
   ]
  },
  {
   "cell_type": "code",
   "execution_count": null,
   "id": "4fb371de",
   "metadata": {},
   "outputs": [],
   "source": [
    "# Filter full years and reset index\n",
    "df = df[df['Year'] % 1 == 0].reset_index(drop=True)\n",
    "df['Growth (%)'] = 100 * (df['Portfolio Value'] - df['Total Contributions']) / df['Total Contributions']\n",
    "df = df[['Year', 'Total Contributions', 'Portfolio Value', 'Growth (%)']]\n",
    "df = df.round(2)"
   ]
  },
  {
   "cell_type": "code",
   "execution_count": null,
   "id": "1e24b507",
   "metadata": {},
   "outputs": [],
   "source": [
    "# Plotting\n",
    "plt.figure(figsize=(10, 6))\n",
    "plt.plot(df['Year'], df['Portfolio Value'], label=f'{annual_rate*100:.1f}% Annual Return')\n",
    "plt.title(f'Growth of ${monthly_contribution}/Month Over {years} Years\\n'\n",
    "          f'with {contribution_increase*100:.0f}% Annual Contribution Increase')\n",
    "plt.xlabel('Years')\n",
    "plt.ylabel('Portfolio Value ($)')\n",
    "plt.grid(True)\n",
    "plt.legend()\n",
    "plt.tight_layout()\n",
    "plt.show()"
   ]
  },
  {
   "cell_type": "code",
   "execution_count": null,
   "id": "b8a4097d",
   "metadata": {},
   "outputs": [],
   "source": [
    "# Display the summary table\n",
    "df"
   ]
  }
 ],
 "metadata": {},
 "nbformat": 4,
 "nbformat_minor": 5
}
